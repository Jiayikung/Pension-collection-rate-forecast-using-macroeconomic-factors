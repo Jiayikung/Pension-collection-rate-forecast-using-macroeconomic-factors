{
 "cells": [
  {
   "cell_type": "markdown",
   "id": "a19d15e0-5dea-4679-8c88-fc14daf3dd71",
   "metadata": {
    "tags": []
   },
   "source": [
    "# <span style=\"color:red\">Econ-GA-4002 Final Project</span> "
   ]
  },
  {
   "cell_type": "markdown",
   "id": "e1d9f937-879b-442c-9b7e-b43722b2a471",
   "metadata": {
    "tags": []
   },
   "source": [
    "### Project Title\n",
    "Forecasting Collection Rate of Taiwan's National Pension Insurance by Using Macroeconomic Factors"
   ]
  },
  {
   "cell_type": "markdown",
   "id": "2d2d8f35-5db0-4142-a9dc-0a49557022c9",
   "metadata": {},
   "source": [
    "### Author\n",
    "Jia-Yi Kung"
   ]
  },
  {
   "cell_type": "markdown",
   "id": "d7abdee9-5eb8-4ffb-9042-c346722cd3c5",
   "metadata": {},
   "source": [
    "### Summary\n",
    "\n",
    "In this final project, I will use Python to examine and estimate the impact of four macroeconomic factors - Consumer Price Index(CPI), Economic growth rate, GDP per capita, and unemployment rate, on the collection rate of National Pension Insurance by taking time-series data from 2008 to 2021. \n",
    "\n",
    "The final project we organized is as follows. Section 1 mentions background information, Research Purpose, and Literature Reviews. Section 2 describes the variable definition and descriptive statistics. Section 3 outlines multiple regression models and the Bayesian estimation model. Section 4 concludes."
   ]
  },
  {
   "cell_type": "code",
   "execution_count": null,
   "id": "b442e9ca-510c-4360-b139-38130857a724",
   "metadata": {
    "collapsed": true,
    "jupyter": {
     "outputs_hidden": true
    },
    "tags": []
   },
   "outputs": [],
   "source": [
    "#Importing the libraries\n",
    "import pandas as pd\n",
    "import numpy as np\n",
    "import matplotlib.pyplot as plt\n",
    "import scipy.stats as st\n",
    "import seaborn as sns\n",
    "import statsmodels.api as sm\n",
    "from statsmodels.compat import lzip\n",
    "import statsmodels.stats.api as sms\n",
    "from statsmodels.formula.api import ols\n",
    "import patsy\n",
    "%pip install pymc3\n",
    "import pymc3 as pm\n",
    "\n",
    "\n",
    "from sklearn.linear_model import LinearRegression\n",
    "from sklearn.model_selection import train_test_split\n",
    "from sklearn import metrics\n",
    "from matplotlib.gridspec import GridSpec"
   ]
  },
  {
   "cell_type": "markdown",
   "id": "9d0e4e7e-b796-43ec-9782-42ac751b4640",
   "metadata": {},
   "source": [
    "## <span style=\"color:blue\">Section 01. Introduction </span> \n",
    "\n",
    "Taiwan's National Pension Insurance aims to ensure the unemployed and economically disadvantaged individuals can enjoy their elderly life at the basic economic level. However, its collection rate had decreased remarkably over time, which even declined to 48% since 2018, mainly because the insured cannot afford the premium. Most of the citizens also called it “the punishment of being unemployed.” Therefore, in order to enhance the collection rate of National Pension Insurance, the effect of macroeconomic factors on the collection rate must be explored. \n",
    "\n",
    "In our final project, we will depict the problem of Taiwan's National Pension Insurance in more detail, and also introduce lately literature related to the topic. "
   ]
  },
  {
   "cell_type": "markdown",
   "id": "f8edef78-64c4-465c-9d1f-eabcc8f2231c",
   "metadata": {},
   "source": [
    "### Background Information\n",
    "\n",
    "Taiwan's population is aging, and as a result, society is paying more and more attention to the life insurance provided to retirees. Other insurances in Taiwan, however, have higher insured requirements, making it impossible for residents with incomes below the average to get insured. As a result, on October 1, 2008, the government of Taiwan passed National Pension Insurance. National Pension Insurance, according to the Bureau of Labor Insurance, Ministry of Labor (2007), aims to ensure the basic economic security for citizens who are unable to be adequately covered by related social insurance when they become old, pregnant, or suffer from a mental or physical disability, as well as the stability of their survivors' lives.\n",
    "\n",
    "Taiwanese between the ages of 25 and 65 who have not enrolled in other social insurance programs, such as labor insurance, are compelled to join the National Pension Insurance program. Every two months, they will be required to pay the pension by the Ministry of Labor. The government will provide these insurance holders with the following advantages after they turn 65: old-age pension payments, maternity payments, pension payments for mental and physical disabilities, death payments, and pension payments for surviving family members. Furthermore, because the majority of insured people are unemployed or economically disadvantaged, the government won't penalize people who miss their deadlines for paying their premiums. However, if they don't pay back the premium within ten years, they will lose their eligibility to receive benefits in the future.\n",
    "\n",
    "The goal of National Pension Insurance is to ensure that these unemployed and economically underprivileged seniors can live out their later years at a basic standard of living. However, the majority of these citizens, who are in the greatest need of National Pension Insurance, are unable to pay the premium or repay the payment within ten years. According to the information shown in Figure 1, the insurance collection rate noticeably decreased from 77.1% in 2008 to 41.4% in 2021. Additionally, Figure 2's explanations for the nonpayment of pensions show that up to 38% of the respondents said they could not afford to make the payment. Apparently, it's worthwhile to investigate whether promoting real economic development might increase the rate at which National Pension Insurance is collected."
   ]
  },
  {
   "cell_type": "code",
   "execution_count": null,
   "id": "e6470c59-b7f0-4af4-998f-1f8beb447af0",
   "metadata": {},
   "outputs": [],
   "source": [
    "#Reading the dataset\n",
    "df = pd.read_excel('/users/doriskong/Desktop/final_project_data.xlsx', sheet_name='data')\n",
    "dff = pd.read_excel('/users/doriskong/Desktop/final_project_data.xlsx', sheet_name='motivation')"
   ]
  },
  {
   "cell_type": "code",
   "execution_count": null,
   "id": "8535a5d2-9ee8-419a-a667-bd2d07258760",
   "metadata": {},
   "outputs": [],
   "source": [
    "fig = plt.figure(figsize=(15, 5))\n",
    "\n",
    "ax1 = plt.subplot2grid((1,2),(0,0))\n",
    "plt.plot(dff['month'], df['collect'])\n",
    "plt.title('Figure 1. The collection rate of Pension Insurance')\n",
    "plt.xlabel('Time')\n",
    "plt.ylabel('The collection rate')\n",
    "\n",
    "reasons = ['Not willing to submit', 'Cannot afford', 'Forget to submit',\n",
    "        'Others']\n",
    "data = [41, 38, 16, 3]\n",
    "ax1 = plt.subplot2grid((1,2),(0,1))\n",
    "plt.pie(data, labels = reasons)\n",
    "plt.title('Figure 2. Reasons for not paying the pension')"
   ]
  },
  {
   "cell_type": "markdown",
   "id": "4fff7579-ecf7-4c68-91a4-76e52ac438e0",
   "metadata": {},
   "source": [
    "### Literature Reviews\n",
    "\n",
    "Studies on the organization, or the comparison of National Pension Insurance in various nations, and studies on its effects can be can roughly be divided into two categories in Taiwanese research.\n",
    "Hsu (2009) compared the National Pension Systems in Japan, Germany, and Taiwan for the purposes of comparisons between various nations in order to gain a thorough understanding of the function and potential difficulties of the system and to make recommendations to the government for its potential implementation in the future. Szu (2009) examined the content and issues of the five benefit payments and used many theories to describe the present disagreements on the legitimacy of the premium.\n",
    "\n",
    "The idea of salary distribution, which Moene and Wallerstein (2001) utilized to determine the income distribution from 2008 to 2010, was also employed by Shie (2012) to assess the impact of National Pension Insurance on income redistribution. He came to the conclusion that the current National Pension Insurance does not achieve the goal of income distribution by cash transfer. This is likely because the main objective of National Pension Insurance is to ensure that the non-income population can maintain a higher standard of living when they get older, not to narrow the wealth gap. Using the social accounting matrix, Lu (1999) confirmed the impact of National Pension Insurance on macroeconomics and developed a projecting model to forecast its macroeconomic consequences. She came to the conclusion that the projection result offers a fresh viewpoint on the social cost of National Pension Insurance while being consistent with academic beliefs.\n",
    "Yu (2018), on the other hand, looked at how the consumer price index (CPI), average GDP per capita, economic growth rate, unemployment rate, savings rate, and savings rate affected the amount of National Pension Insurance that was collected. He applies the fundamental statistical analysis, ADF single root verification, Granger causality test, vector self-regression model, and multiple regression model to the time-series data from 2008 to 2017. The results show a correlation between the collection rate and the unemployment rate that is positive, and a correlation between the collection rate and average GDP per capita, savings rate, and CPI that is negative.\n",
    "\n",
    "The key contribution of this study is that we added the lagged effect and the temporal trend to further explore the impact of the CPI on the insurance collection rate. In order to offer a more complete conclusion, we also incorporate controlled variables into the discussion.\n"
   ]
  },
  {
   "cell_type": "markdown",
   "id": "056eaf9f-a244-4b91-b999-1f663e3a90ca",
   "metadata": {},
   "source": [
    "## <span style=\"color:blue\">Section 02. Data and Sample</span> \n",
    "\n",
    "The time-series data for this study during the period of 2008 to 2021 are obtained from the National Statistics, R.O.C., Data, Gov, TW., and Ministry of the Interior, Department of Statistics. Additionally, the model will contain one dependent variable, four independent variables, and three controlled variables.\n",
    "\n",
    "Table 1 provides the definitions of variables used in the regression, and we will also do the descriptive statistics for our final project, providing basic information about our dataset and highlighting the potential relationship between variables.\n",
    "\n",
    "* Table 1. Variable Definition\n",
    "\n",
    "<table>\n",
    "  <thead>\n",
    "    <tr>\n",
    "      <th>Dependent variable</th>\n",
    "      <th>Variable Definition</th>\n",
    "    </tr>\n",
    "  </thead>\n",
    "  <tbody>\n",
    "    <tr>\n",
    "      <td>Collection rate of insurance (%)</td>\n",
    "      <td>Monthly percentage of the number of people who paid the premium (i.e., 100% × (People who paid the premium)/(People who are supposed to pay)).</td>\n",
    "    </tr>\n",
    "       </tbody>\n",
    "</table>\n",
    "<table>\n",
    "  <thead>\n",
    "    <tr>\n",
    "      <th>Independent variable</th>\n",
    "      <th></th>\n",
    "    </tr>\n",
    "  </thead>\n",
    "  <tbody>\n",
    "    <tr>\n",
    "      <td>Consumer price index (CPI)</td>\n",
    "      <td>Monthly index based upon the index average for the year in 2016 which was set to 100, according to National Statistics, R.O.C. (2022).</td>\n",
    "    </tr>\n",
    "    <tr>\n",
    "      <td>Economic growth rate</td>\n",
    "      <td>The annual growth rate of \"real gross output\" or \"real gross domestic product\", according to National development council (2022).</td>\n",
    "    </tr>\n",
    "       <tr>\n",
    "      <td>GDP per capita</td>\n",
    "      <td>A standard measure of the value added created through the production of goods and services in a country during a certain period, according to OECD National Accounts data files (2022).</td>\n",
    "    </tr>\n",
    "      <tr>\n",
    "      <td>Unemployment rate</td>\n",
    "      <td>It represents the number of unemployed as a percentage of the labor force, according to U.S. Bureau of Labor Statistics (2022).</td>\n",
    "    </tr>\n",
    "  </tbody>\n",
    "</table>\n",
    "<table>\n",
    "  <thead>\n",
    "    <tr>\n",
    "      <th>Controlled variables</th>\n",
    "      <th></th>\n",
    "    </tr>\n",
    "  </thead>\n",
    "  <tbody>\n",
    "    <tr>\n",
    "      <td>Year</td>\n",
    "      <td>A time trend variable.(e.g., Janauary 2021 to December 2021 equals the 2021 data, etc).</td>\n",
    "    </tr>\n",
    "    <tr>\n",
    "      <td>Year^2</td>\n",
    "      <td>Square of the “Year” variable.</td>\n",
    "    </tr>\n",
    "       <tr>\n",
    "      <td>Lagged variable of CPI</td>\n",
    "      <td>Data of the N month equals the data of N-1 month in “CPI” variable. It is used to check the existence of the lagged effect.</td>\n",
    "    </tr>\n",
    "  </tbody>\n",
    "</table>"
   ]
  },
  {
   "cell_type": "markdown",
   "id": "65f8ae4a-befd-49d5-95be-94f7fab188e1",
   "metadata": {},
   "source": [
    "## Data Processing"
   ]
  },
  {
   "cell_type": "code",
   "execution_count": null,
   "id": "7ee49d47-ae43-4c45-aa9c-d8d684ac1754",
   "metadata": {},
   "outputs": [],
   "source": [
    "df.head(6)"
   ]
  },
  {
   "cell_type": "code",
   "execution_count": null,
   "id": "dfb7261b-25a8-4630-adc7-504a9a72f468",
   "metadata": {},
   "outputs": [],
   "source": [
    "df = pd.DataFrame(df)\n",
    "df.describe()"
   ]
  },
  {
   "cell_type": "code",
   "execution_count": null,
   "id": "047bdcad-af0c-41a7-91a8-b07fab25970c",
   "metadata": {},
   "outputs": [],
   "source": [
    "#Visualizing correlation\n",
    "from pandas.plotting import scatter_matrix\n",
    "\n",
    "scatter_matrix(df[['collect', 'cpi', 'ecogrow', 'gdp', 'unemploy']], figsize=(15, 10))\n",
    "plt.show()"
   ]
  },
  {
   "cell_type": "code",
   "execution_count": null,
   "id": "40619c2e-8211-4205-8e31-86b6928eb4c5",
   "metadata": {},
   "outputs": [],
   "source": [
    "#Ploting correlation in heat map\n",
    "matrix = df.corr().round(2)\n",
    "sns.heatmap(matrix, annot=True)\n",
    "plt.show()"
   ]
  },
  {
   "cell_type": "markdown",
   "id": "1d78bcfe-151f-4394-a652-a2f8cf8a9fe8",
   "metadata": {},
   "source": [
    "## Residual Analysis"
   ]
  },
  {
   "cell_type": "markdown",
   "id": "40b84e8b-ed27-4930-b247-3af48d4e9c19",
   "metadata": {},
   "source": [
    "Test for normality:\n",
    "The error terms (residuals) are normally distributed, and thus satisfy the normality assumption."
   ]
  },
  {
   "cell_type": "code",
   "execution_count": null,
   "id": "e17dcd5e-e6aa-4d16-ab02-6a1e6494378c",
   "metadata": {},
   "outputs": [],
   "source": [
    "fig = plt.figure(constrained_layout=True)\n",
    "gs = GridSpec(1, 2, figure=fig)\n",
    "ax1 = fig.add_subplot(gs[0, 0])\n",
    "ax2 = fig.add_subplot(gs[0, 1])\n",
    "\n",
    "df_lm = ols(\"collect ~ cpi+ecogrow+gdp+unemploy+month2+lagcpi\", data=df).fit()\n",
    "residuals = df['collect'] - df_lm.predict()\n",
    "sm.qqplot(residuals, line='45', fit=True, ax=ax1) \n",
    "ax1.set_title('QQ Plot')\n",
    "\n",
    "ax2.hist(residuals)\n",
    "ax2.set_title('Histogram of the Residuals')\n",
    "ax2.set(xlabel = 'Residuals')\n",
    "ax2.set(ylabel = 'Frequency')\n",
    "plt.show()"
   ]
  },
  {
   "cell_type": "markdown",
   "id": "d94bf73d-2223-4901-9d7b-c9c4624ef91a",
   "metadata": {},
   "source": [
    "## <span style=\"color:blue\">Section 03. Empirical Design</span> "
   ]
  },
  {
   "cell_type": "markdown",
   "id": "46d794a7-d393-44e8-8118-29fd9137a862",
   "metadata": {},
   "source": [
    "## Multiple Regression model\n",
    "\n",
    "I used the following multiple regression model to examine to what extent the decline of the collection rate of National Pension Insurance can be accounted for by macroeconomic-related changes after controlling the lagged effect, the time trend, and the year correlation.\n",
    "\n",
    "$\\hat{Pension}_{t} = \\hat{\\beta}_{0}+\\hat{\\beta}_{1}\\times\\text{CPI}_{t}+\\hat{\\beta}_{2}\\times\\text{Economic growth rate}_{t}+\\hat{\\beta}_{3}\\times\\text{GDP per capita}_{t}+\\hat{\\beta}_{4}\\times\\text{Unemployment rate}_{t}+\\hat{\\beta}_{5}\\times\\text{Year}+\\hat{\\beta}_{6}\\times\\text{Year}^{2}+\\hat{\\beta}_{7}\\times\\text{lag}+\\text{ε}$\n",
    "\n",
    "where the subscript $\\text{t}$ represents the time trend, ${\\beta}_{1},{\\beta}_{2},{\\beta}_{3},{\\beta}_{4}$ represents vectors of coefficients to be estimated, and $\\text{ε}$ is an error term, which is assumed to be normally distributed.\n",
    "\n",
    "Secondly, through the regression result, I will test the overall hypothesis by using F-test and test the individual hypothesis by using T-test. The adjusted R-squared value will also show how well the data fit the regression model (the goodness of fit). "
   ]
  },
  {
   "cell_type": "markdown",
   "id": "5d96d7be-de08-4759-8ff5-74592cfbdef7",
   "metadata": {},
   "source": [
    "### Case 1: not including the time correlation and the lagged effect\n",
    "\n",
    "The results of the multiple regression, which ignored the time correlation and the lagged effect, are shown in the following Table. At the 5% significant level, the one-point increase in the CPI on the collection rate denotes −0.33 percentage points; a one-point increase in economic growth has a - 0.0492 percentage point impact on the collection rate; a one-point increase in the GDP has a - 3.343e-05 percentage point impact on the collection rate. Additionally, there are only CPI, economic growth and GDP have a statistically significant effect on the collection rate at the 5% significant level.\n",
    "\n",
    "This model also shows great goodness of fit, showing adjusted R-squared is 99.4%."
   ]
  },
  {
   "cell_type": "code",
   "execution_count": null,
   "id": "01abf8e7-2682-4d4a-81c6-e7bfd50df518",
   "metadata": {},
   "outputs": [],
   "source": [
    "#Setting the value for X and Y\n",
    "x = df[['month', 'cpi', 'ecogrow', 'gdp', 'unemploy']]\n",
    "y = df['collect']"
   ]
  },
  {
   "cell_type": "code",
   "execution_count": null,
   "id": "430e0dd2-aa7b-4248-9368-4422a8076434",
   "metadata": {},
   "outputs": [],
   "source": [
    "#Checking independent variables\n",
    "x.head()"
   ]
  },
  {
   "cell_type": "code",
   "execution_count": null,
   "id": "1e36178f-c9da-47c3-aa82-70eb00dd7ebe",
   "metadata": {},
   "outputs": [],
   "source": [
    "#Checking dependent variable\n",
    "y.head()"
   ]
  },
  {
   "cell_type": "code",
   "execution_count": null,
   "id": "27ba2280-c040-4769-b12f-4babf12b8bcc",
   "metadata": {},
   "outputs": [],
   "source": [
    "#Running regression\n",
    "x = sm.add_constant(x)\n",
    "\n",
    "model = sm.OLS(y, x)\n",
    "results = model.fit()\n",
    "results.summary()"
   ]
  },
  {
   "cell_type": "markdown",
   "id": "703aa01d-f053-4a9e-81ae-c4849de87a6e",
   "metadata": {},
   "source": [
    "### Case 2: Including the time correlation and the lagged effect"
   ]
  },
  {
   "cell_type": "markdown",
   "id": "8b199802-c2ec-4227-be32-4daf56737e74",
   "metadata": {},
   "source": [
    "The results of the multiple regression, which includes the time correlation and the lagged effect, are shown in the following Table. At the 5% significant level, a one-point increase in economic growth has a - 0.0544 percentage point impact on the collection rate; a one-point increase in the GDP has a - 2.897e-05 percentage point impact on the collection rate. Additionally, there are only economic growth and GDP have a statistically significant effect on the collection rate at the 5% significant level.\n",
    "\n",
    "This model also shows great goodness of fit, showing adjusted R-squared is 99.4%."
   ]
  },
  {
   "cell_type": "code",
   "execution_count": null,
   "id": "cb595f7d-cd68-403f-9686-43cc4093dd61",
   "metadata": {},
   "outputs": [],
   "source": [
    "x = df[['month', 'cpi', 'ecogrow', 'gdp', 'unemploy', 'month2', 'lagcpi']]\n",
    "y = df['collect']\n",
    "\n",
    "x = sm.add_constant(x)\n",
    "\n",
    "model = sm.OLS(y, x)\n",
    "results = model.fit()\n",
    "results.summary()"
   ]
  },
  {
   "cell_type": "markdown",
   "id": "3e034c45-e420-4238-b6c7-22c6a7076b4b",
   "metadata": {},
   "source": [
    "### Why independent variables \"CPI\" and \"Unemployment\" are not statistically significant?\n",
    "\n",
    "Considering both regression scenarios, which have a high R-squared value, it may indicate there is high collinearity across these two independent variables. The following figure illustrates the strong linear correlation between the unemployment rate and CPI. "
   ]
  },
  {
   "cell_type": "code",
   "execution_count": null,
   "id": "1a254f61-f986-4db9-997e-3c8e8353e016",
   "metadata": {},
   "outputs": [],
   "source": [
    "sns.scatterplot(x=\"cpi\", y=\"unemploy\", data=df)"
   ]
  },
  {
   "cell_type": "markdown",
   "id": "dc4fc580-7b16-41de-b510-08ece44fd182",
   "metadata": {},
   "source": [
    "## Bayesian estimation model\n",
    "\n",
    "I sought to use one economic component to forecast future collection rates after testing correlations between economic factors and the Taiwan National Pension Insurance collection rate. I did not apply the Bayesian logic to CPI and GDP per capita because of the low t-value for the preceding regression. Due to its statistically significant effect on the collection rate, I opted to select just one independent variable \"economic growth\" from the model.\n",
    "\n",
    "Testing whether we can predict monthly collection rate of National Pension Insurance using  𝑡−1  economic growth rate. \n",
    "Let our likelihood be described by:\n",
    "\n",
    "$$y_{t+1} = \\theta_y + \\beta_g g_t + \\sigma \\varepsilon_{t+1}$$\n",
    "\n",
    "with $\\varepsilon_{t+1} \\sim N(0, 1)$\n",
    "\n",
    "We now specify priors over $\\theta_y$, $\\beta_g$, and $\\sigma$:\n",
    "\n",
    "- $\\theta_y \\sim N(56.26, 7.37)$\n",
    "- $\\beta_g \\sim N(-7.8219, 26)$\n",
    "- $\\sigma \\sim U(0.001, 10.0)$"
   ]
  },
  {
   "cell_type": "code",
   "execution_count": null,
   "id": "b261b51e-158f-44be-a9c6-cfe32cda1e16",
   "metadata": {},
   "outputs": [],
   "source": [
    "m = pm.Model()\n",
    "\n",
    "with m:\n",
    "    # Observed data\n",
    "    collect = pm.Data(\"collect\", df[\"collect\"])\n",
    "    eco_growth = pm.Data(\"ecogrow\", df[\"ecogrow\"])\n",
    "\n",
    "    # Priors\n",
    "    theta_y = pm.Normal(\"theta_y\", 56.26, 7.37)\n",
    "    beta_e = pm.Normal(\"beta_e\", -7.8219, 26)\n",
    "    sigma = pm.Uniform(\"sigma\", 0.001, 10.0)\n",
    "\n",
    "    # Likelihood\n",
    "    obs_ys = pm.Normal(\"obs_ys\", theta_y + beta_e*eco_growth, sigma, observed=collect)"
   ]
  },
  {
   "cell_type": "code",
   "execution_count": null,
   "id": "bab1b4d6-13dc-423e-9a91-da90161a65c7",
   "metadata": {
    "collapsed": true,
    "jupyter": {
     "outputs_hidden": true
    },
    "tags": []
   },
   "outputs": [],
   "source": [
    "with m:\n",
    "    trace = pm.sample(2000, tune=1500)"
   ]
  },
  {
   "cell_type": "code",
   "execution_count": null,
   "id": "5a36ca27-921b-42f1-b3a9-c1b877c728a1",
   "metadata": {},
   "outputs": [],
   "source": [
    "fig, ax = plt.subplots(2, 2, figsize=(14, 8))\n",
    "\n",
    "ax[0, 0].hist(trace[\"theta_y\"], bins=50)\n",
    "ax[0, 0].set_title(\"theta_y\")\n",
    "ax[0, 1].hist(trace[\"beta_e\"], bins=50)\n",
    "ax[0, 1].set_title(\"beta_e\")\n",
    "ax[1, 0].hist(trace[\"sigma\"], bins=50)\n",
    "ax[1, 0].set_title(\"sigma\")"
   ]
  },
  {
   "cell_type": "code",
   "execution_count": null,
   "id": "ded89548-dde0-4e8d-9eff-869c6cd9d57f",
   "metadata": {},
   "outputs": [],
   "source": [
    "np.mean(trace[\"theta_y\"]) #if ecogrow=0, mean of collection rate will be 60.25%"
   ]
  },
  {
   "cell_type": "code",
   "execution_count": null,
   "id": "4cc9cb60-7f6d-45d7-8beb-c426f97c1bf4",
   "metadata": {},
   "outputs": [],
   "source": [
    "np.std(trace[\"theta_y\"]) "
   ]
  },
  {
   "cell_type": "code",
   "execution_count": null,
   "id": "04e5e2db-fa14-4b60-98a9-ebe40fb8a1eb",
   "metadata": {},
   "outputs": [],
   "source": [
    "np.quantile(trace[\"theta_y\"], [0.025, 0.975])  \n",
    "#95 percent equal tailed credible set will go from 58.4% to 62.09%\n",
    "#There are 95% possibility that the mean collection rate is between 58.4% to 62.09%"
   ]
  },
  {
   "cell_type": "code",
   "execution_count": null,
   "id": "288088f5-73c3-43d8-9064-389d6c3b3f99",
   "metadata": {},
   "outputs": [],
   "source": [
    "np.corrcoef(trace[\"theta_y\"], trace[\"beta_e\"])[0, 1]"
   ]
  },
  {
   "cell_type": "code",
   "execution_count": null,
   "id": "e58e84c4-6bc0-42df-9d16-2f396589b0c0",
   "metadata": {},
   "outputs": [],
   "source": [
    "plt.scatter(trace[\"theta_y\"], trace[\"beta_e\"], alpha=0.4) \n",
    "#The economic growth rate is negatively correlated to the collection rate."
   ]
  },
  {
   "cell_type": "markdown",
   "id": "6d76c349-f541-4b30-b240-113ce7394f80",
   "metadata": {
    "jp-MarkdownHeadingCollapsed": true,
    "tags": []
   },
   "source": [
    "### Estimation results\n",
    "After testing several models, I discovered that incorporating economic growth produced a more useful outcome. The above figure depicts the mean of the collection rate as being centered around 60%. Utilizing quantile to this distribution, I received [58.4001, 62.0924], meaning 95% of collection rate will be in this set under current economic growth rate. \n",
    "\n",
    "Finally, we can also conclude that even a better macroeconomic environment will still result in a decreasing collection rate of National Pension Insurance."
   ]
  },
  {
   "cell_type": "markdown",
   "id": "cfdb7bb5-b25d-43f4-a7dd-1d08b36db38c",
   "metadata": {},
   "source": [
    "## <span style=\"color:blue\">Section 04. Conclusion</span> \n",
    "Holding all other factors constant, the findings point to a negative link between economic factors and the collection rate that is statistically significant at the 5% level. The reason why they are negatively correlated may be because one of the biggest properties lies in the pension policy: Paying premium is not mandatory since this pension is aimed to design for those who are unemployed or economically disadvantaged. Hence, this will provide citizens opportunities to choose their investment products other than national pension insurance, in order to ensure they can enjoy their elderly life at the basic economic level.\n",
    "\n",
    "With better economic development, citizens do not have to worry they may lose their job in the future, and thus do not have the demand to insure the national pension insurance. Also, there are lots of alternatives to pensions in the financial market. While the national pension is only at the bottom of Taiwan’s social security system, and it can only provide people with the most basic living security, the incentives the national pension has are limited. That is, citizens with spare income may choose to buy stocks or bonds instead of national pension insurance.\n",
    "\n",
    "The study is limited by the absence of regional series data on the collection rate of the National Pension Insurance, which might be Taiwan's panel data. We could also examine the subject by taking into account additional intersectional elements, such as gender, age, education, and the government's budget for promoting National Pension Insurance, in addition to the macroeconomic ones."
   ]
  },
  {
   "cell_type": "markdown",
   "id": "6f20a7d1-7ee1-4c1a-b5c2-b95c7a3f3f2c",
   "metadata": {},
   "source": [
    "## Reference\n",
    "Bureau of Labor Insurance, Ministry of Labor. (2007, July 20). National Pension Act. Retrieved December 10, 2022, from https://www.bli.gov.tw/en/0011304.html \n",
    "\n",
    "Cao, Fu Nian. (2019, January 29). 103萬人的年金大限—他們為何繳不起國民年金. Retrieved December 10, 2022, from https://www.twreporter.org/a/national-pension-ten-years\n",
    "\n",
    "Hsu, Cherry. (2009). The Comparison and Discussion on the National Pension System in Japan, Germany, and Taiwan. 逢甲大學經營管理碩士在職專班碩士論文 \n",
    "\n",
    "Lu, Su Yu (1999). The Impact of Taiwan's National Pension insurance on Macroeconomics. 國立東華大學國際經濟研究所碩士論文\n",
    "Moene. K. O. and M. Wallerstein. (2001, December). Inequality, Social Insurance and Redistribution. American Political Science Review, 95(4), 859-874. https://doi.org/10.1017/S0003055400400067 \n",
    "\n",
    "Shie, Hong Chang. (2012). The Influence of National Pension Insurance to Income Redistribution. 嶺東科技大學財稅與會計資訊研究所碩士論文\n",
    "\n",
    "Szu, Hui Lee. (2009). An Analysis and Review of the National Pension Policy in Taiwan, 銘傳大學法律學系碩士班碩士論文 \n",
    "\n",
    "Yu, Tzung Yuan. (2018). The Impact of Macro-economic Variables on the Collection Rate of  National Pension Insured, 國立屏東大學國際貿易學系碩士班碩士論文"
   ]
  }
 ],
 "metadata": {
  "kernelspec": {
   "display_name": "Python 3 (ipykernel)",
   "language": "python",
   "name": "python3"
  },
  "language_info": {
   "codemirror_mode": {
    "name": "ipython",
    "version": 3
   },
   "file_extension": ".py",
   "mimetype": "text/x-python",
   "name": "python",
   "nbconvert_exporter": "python",
   "pygments_lexer": "ipython3",
   "version": "3.9.12"
  }
 },
 "nbformat": 4,
 "nbformat_minor": 5
}
