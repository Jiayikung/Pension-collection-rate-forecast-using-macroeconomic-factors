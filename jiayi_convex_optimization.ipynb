{
 "cells": [
  {
   "cell_type": "markdown",
   "metadata": {
    "tags": []
   },
   "source": [
    "# ECON-GA-4002: Homework 2\n",
    "\n",
    "**Name**: Jia Yi Kung\n"
   ]
  },
  {
   "cell_type": "markdown",
   "metadata": {
    "nbgrader": {
     "grade": false,
     "grade_id": "04a86e",
     "locked": true,
     "schema_version": 3,
     "solution": false,
     "task": false
    },
    "slideshow": {
     "slide_type": "-"
    }
   },
   "source": [
    "\n",
    "## Part 1: Theoretical Foundations\n",
    "\n",
    "The questions in this section from `01_theory.ipynb`\n",
    "\n",
    "Please review that notebook for context and help"
   ]
  },
  {
   "cell_type": "markdown",
   "metadata": {
    "nbgrader": {
     "grade": false,
     "grade_id": "fa9501",
     "locked": true,
     "schema_version": 3,
     "solution": false,
     "task": false
    },
    "slideshow": {
     "slide_type": "subslide"
    }
   },
   "source": [
    "<a id='exercise-0'></a>\n",
    "**Exercise 1.1**\n",
    "\n",
    "Show that for a convex set $C \\subseteq \\mathbb{R}^n$ any convex combination of members of $C$ is in $C$"
   ]
  },
  {
   "cell_type": "markdown",
   "metadata": {
    "nbgrader": {
     "grade": true,
     "grade_id": "ex1_1",
     "locked": false,
     "points": 10,
     "remove": false,
     "schema_version": 3,
     "solution": true,
     "task": false
    }
   },
   "source": [
    "Assume that two points x1, x2 belongs to the convex set C, then their combination will be λ*x1+(1-λ)*x2. Since we could find out that thier combination is just the line segment [x1, x2], we can conclude that any convex combination of members of C is in C."
   ]
  },
  {
   "cell_type": "markdown",
   "metadata": {
    "nbgrader": {
     "grade": false,
     "grade_id": "bb10ab",
     "locked": true,
     "schema_version": 3,
     "solution": false,
     "task": false
    },
    "slideshow": {
     "slide_type": "subslide"
    }
   },
   "source": [
    "<a id='exercise-2'></a>\n",
    "**Exercise 1.2**\n",
    "\n",
    "Show that if $C$ is convex, then $\\textbf{conv} C = C$"
   ]
  },
  {
   "cell_type": "markdown",
   "metadata": {
    "nbgrader": {
     "grade": true,
     "grade_id": "ex1_2",
     "locked": false,
     "points": 10,
     "schema_version": 3,
     "solution": true,
     "task": false
    }
   },
   "source": [
    "From the definition of the convex hull of a set C (convC), we could know that convC is the set of all convex combinations of points in C. Further, As we know in Exercise 1.1, any convex combination of members of C is in C, we can conclude that convC contains C and convC is a convex set. \n",
    "\n",
    "Therefore, all convex sets containing C must must contain convC, and convC is itself a convex set containing C, convC = C."
   ]
  },
  {
   "cell_type": "markdown",
   "metadata": {
    "slideshow": {
     "slide_type": "slide"
    }
   },
   "source": [
    "### Convex Functions\n",
    "\n",
    "A function $f: \\mathbb{R}^n \\rightarrow \\mathbb{R}$ is *convex* if :\n",
    "\n",
    "1. $\\textbf{dom} f$ is convex\n",
    "2. $\\forall x, y \\in \\textbf{dom} f$ and $\\theta \\in [0, 1]$ $$f(\\theta x + (1 - \\theta) y) \\le \\theta f(x) + (1 - \\theta) f(y)$$"
   ]
  },
  {
   "cell_type": "markdown",
   "metadata": {
    "nbgrader": {
     "grade": false,
     "grade_id": "23e04b",
     "locked": true,
     "schema_version": 3,
     "solution": false,
     "task": false
    },
    "slideshow": {
     "slide_type": "subslide"
    }
   },
   "source": [
    "\n",
    "<a id='exercise-3'></a>\n",
    "**Exercise 1.3**\n",
    "\n",
    "Show that all linear functions are convex\n",
    "\n",
    "*Hint:* To do this show that the convexity inequality above (condition 2) holds with equality when $f$ is linear"
   ]
  },
  {
   "cell_type": "markdown",
   "metadata": {
    "nbgrader": {
     "grade": true,
     "grade_id": "ex1_3",
     "locked": false,
     "points": 10,
     "schema_version": 3,
     "solution": true,
     "task": false
    }
   },
   "source": [
    "To prove that all linear functions are convex, we need to prove that every line segment joining two points on the convex curve never lies below the curve at any point. \n",
    "\n",
    "Assume f be a linear function defined on the interval [x1, x2], and x1 ≤ a ≤ x2, x1 ≤ b ≤ x2, a < b. From the convex curve, we then could find out the height of the line segment (a, f(a)) to (b, f(b)) ≥ f(x). Hence, we can conclude: when f is linear, for any value of λ with 0 ≤ λ ≤ 1, 𝑓(𝜃a+(1−𝜃)b)≤𝜃𝑓(a)+(1−𝜃)𝑓(b)."
   ]
  },
  {
   "cell_type": "markdown",
   "metadata": {
    "nbgrader": {
     "grade": false,
     "grade_id": "53c44f",
     "locked": true,
     "schema_version": 3,
     "solution": false,
     "task": false
    }
   },
   "source": [
    "# Part 2: Linear programs\n",
    "\n",
    "The questions in this section from `02_linear_programs.ipynb`\n",
    "\n",
    "Please review that notebook for context and help"
   ]
  },
  {
   "cell_type": "markdown",
   "metadata": {
    "nbgrader": {
     "grade": false,
     "grade_id": "bf07b5",
     "locked": true,
     "schema_version": 3,
     "solution": false,
     "task": false
    }
   },
   "source": [
    "<a id='exercise-0'></a>\n",
    "**Exercise 2.1**\n",
    "\n",
    "Convert a linear program in the general form to a linear program in standard form\n",
    "\n",
    "\n",
    "*Hint:* You will need to introduce a new vector (of slack variables) into the constraints"
   ]
  },
  {
   "cell_type": "markdown",
   "metadata": {
    "nbgrader": {
     "grade": true,
     "grade_id": "ex2_1",
     "locked": false,
     "points": 10,
     "remove": false,
     "schema_version": 3,
     "solution": true,
     "task": false
    }
   },
   "source": [
    "Assume we need to minimize 80x+60y, subject to x+y ≥ 1, -0.05x+0.07y ≤ 0, x, y ≥ 0. \n",
    "\n",
    "To convert to standard form, we introduce two new variables s1 ≥ 0, s2 ≥ 0. The first measures how much over 1 the quantity x + y is, and the second measures how much under 0 the quantity −.05x + .07y is. \n",
    "\n",
    "Therefore, we could get: minimize 80x+60y, subject to x+y-s1 = 1, -0.05x+0.07y+s2 = 0, x, y, s1, s2 ≥ 0."
   ]
  },
  {
   "cell_type": "markdown",
   "metadata": {
    "nbgrader": {
     "grade": false,
     "grade_id": "7d844a",
     "locked": true,
     "schema_version": 3,
     "solution": false,
     "task": false
    },
    "slideshow": {
     "slide_type": "slide"
    }
   },
   "source": [
    "**Exercise 2.2: Transportation problem**\n",
    "\n",
    "> Note: This problem comes from \"Labs for Foundations of Applied Mathematics Volume 2\" by Jeffrey Humpherys And Tyler J. Jarvis released under the [Creative Commons Attribution 3.0 United States license](http://creativecommons.org/licenses/by/3.0/us/). The original source for the lab materials can be found at [https://github.com/Foundations-of-Applied-Mathematics/Labs](https://github.com/Foundations-of-Applied-Mathematics/Labs)\n",
    "\n",
    "Consider the following transportation problem: \n",
    "\n",
    "- A piano company needs to transport thirteen pianos from their three supply centers (denoted by 1, 2, 3) to two demand centers (4, 5)\n",
    "- Transporting a piano from a supply center to a demand center incurs a cost (see table below)\n",
    "- The company wants to minimize shipping costs for the pianos while meeting the demand\n",
    "\n",
    "| Supply Center | Demand Center | Cost of Transportation | Number of Pianos | \n",
    "| :-----------: | :-----------: | :--------------------: | :--------------: |\n",
    "| 1 | 4 | 4 | $p_1$ |\n",
    "| 1 | 5 | 7 | $p_2$ | \n",
    "| 2 | 4 | 6 | $p_3$ | \n",
    "| 2 | 5 | 8 | $p_4$ |\n",
    "| 3 | 4 | 8 | $p_5$ |\n",
    "| 3 | 5 | 9 | $p_6$ |\n",
    "The number of pianos available at each supply center is given by:\n",
    "\n",
    "| Supply Center | Number of pianos available |\n",
    "| :-----------: | :------------------------: |\n",
    "| 1 | 7 |\n",
    "| 2 | 2 | \n",
    "| 3 | 4 |\n",
    "The number of pianos needed at each demand center is given by\n",
    "\n",
    "| Demand Center | Number of pianos needed |\n",
    "| :-----------: | :---------------------: |\n",
    "| 4 | 5 |\n",
    "| 5 | 8 |\n",
    "A linear program can be set up to solve for $p_i$, $i=1,\\dots,6$\n",
    "\n",
    "The objective is to minimize total cost of shipping pianos, subject to these constraints:\n",
    "\n",
    "- There cannot be a negative number of pianos transported along any route\n",
    "- All supply centers must transport all pianos\n",
    "- All demand centers must end up with needed number of pianosFinally, the objective function is the number of pianos shipped along each\n",
    "route multiplied costs found in the costs table.\n",
    "Your task is to formulate the transportation problem as a linear program\n",
    "\n",
    "That is define the vector $c$, matrix $A$ and vector $b$ that appropriately defines the problem as described above\n",
    "\n",
    "*Hint:* the matrix $A$ will have 5 rows and 6 columns"
   ]
  },
  {
   "cell_type": "code",
   "execution_count": 17,
   "metadata": {
    "nbgrader": {
     "grade": false,
     "grade_id": "236c40",
     "locked": false,
     "schema_version": 3,
     "solution": true,
     "task": false
    }
   },
   "outputs": [],
   "source": [
    "import numpy as np\n",
    "\n",
    "def piano_transporation_problem():\n",
    "    \"\"\"\n",
    "    Define the arrays c, A, and b that set up a linear program\n",
    "    for solving the optimal piano transport problem described above\n",
    "\n",
    "    Returns\n",
    "    -------\n",
    "    c: np.array\n",
    "        The coefficient vector c\n",
    "\n",
    "    A: np.array\n",
    "        The constraint matrix A\n",
    "\n",
    "    b: np.array\n",
    "        The constraint value vector b\n",
    "\n",
    "    Notes\n",
    "    -----\n",
    "\n",
    "    In order to pass the tests below, you must have the rows of A \n",
    "    and b match order of location numbers from the tables above\n",
    "\n",
    "    \"\"\"\n",
    "    c = np.array([4., 7., 6., 8., 8., 9.])\n",
    "    A = np.array([\n",
    "        [1,1,0,0,0,0],\n",
    "        [0,0,1,1,0,0],\n",
    "        [0,0,0,0,1,1],\n",
    "        [-1,0,-1,0,-1,0],\n",
    "        [0,-1,0,-1,0,-1]\n",
    "    ])\n",
    "\n",
    "    b = np.array([7., 2., 4., -5., -8.])\n",
    "\n",
    "    return c, A, b"
   ]
  },
  {
   "cell_type": "code",
   "execution_count": 18,
   "metadata": {
    "nbgrader": {
     "grade": true,
     "grade_id": "ex2_2",
     "locked": true,
     "points": 20,
     "remove": false,
     "schema_version": 3,
     "solution": false,
     "task": false
    }
   },
   "outputs": [],
   "source": [
    "from scipy.optimize import linprog\n",
    "\n",
    "c, A, b = piano_transporation_problem()\n",
    "\n",
    "assert np.allclose(A.sum(axis=1), [2, 2, 2, -3, -3])\n",
    "assert np.allclose(A.sum(axis=0), np.zeros(6))\n",
    "assert all(c > 0)\n",
    "\n",
    "# solve with linprog and check solution\n",
    "sol = linprog(c, A, b)\n",
    "assert np.allclose(sol.x, [5, 2, 0, 2, 0, 4])"
   ]
  },
  {
   "cell_type": "markdown",
   "metadata": {
    "nbgrader": {
     "grade": false,
     "grade_id": "a2ef72",
     "locked": true,
     "schema_version": 3,
     "solution": false,
     "task": false
    }
   },
   "source": [
    "# Part 3: Simplex Algorithm\n",
    "\n",
    "The questions in this section from `03_simplex_algorithm.ipynb`\n",
    "\n",
    "Please review that notebook for context and help"
   ]
  },
  {
   "cell_type": "markdown",
   "metadata": {
    "nbgrader": {
     "grade": false,
     "grade_id": "6eb270",
     "locked": true,
     "schema_version": 3,
     "solution": false,
     "task": false
    }
   },
   "source": [
    "**Exercise 3.1**\n",
    "\n",
    "Write a Python function that can consume `cbar`, `Abar` and `b` and return the tableau $D$:"
   ]
  },
  {
   "cell_type": "code",
   "execution_count": 63,
   "metadata": {
    "nbgrader": {
     "grade": false,
     "grade_id": "b36601",
     "locked": false,
     "schema_version": 3,
     "solution": true,
     "task": false
    }
   },
   "outputs": [],
   "source": [
    "import numpy as np\n",
    "\n",
    "def build_tableau(cbar: np.ndarray, Abar: np.ndarray, b: np.ndarray) -> np.ndarray:\n",
    "    \"\"\"\n",
    "    Given cbar, Abar, and b for a stanard linear program\n",
    "    \n",
    "    construct a tableau of the form\n",
    "    \n",
    "    D = [[0, cbar.T], [b - Abar]]\n",
    "    \"\"\"\n",
    "    m, n = Abar.shape\n",
    "    assert (len(b), len(cbar)) == (m,n)\n",
    "    up=np.hstack((np.array([0]), cbar))\n",
    "    down=np.column_stack((b, -Abar))\n",
    "    D=np.vstack((up, down))\n",
    "    return D"
   ]
  },
  {
   "cell_type": "code",
   "execution_count": 64,
   "metadata": {
    "nbgrader": {
     "grade": true,
     "grade_id": "ex3_1",
     "locked": true,
     "points": 10,
     "schema_version": 3,
     "solution": false,
     "task": false
    }
   },
   "outputs": [],
   "source": [
    "# from 01_simplex_algorithm.ipynb\n",
    "def to_standard_form(c, A, b):\n",
    "    \"\"\"\n",
    "    Convert a linear program of the form\n",
    "    \n",
    "    min_x dot(c, x) s.t. Ax <= b and x >= 0\n",
    "    \n",
    "    into a standrd linear program of the form\n",
    "    \n",
    "    min_xbar dot(cbar, xbar) s.t. Ax + s = b and xbar >= 0\n",
    "    \"\"\"\n",
    "    # check dimensions\n",
    "    m, n = A.shape\n",
    "    assert (len(b), len(c)) == (m, n)\n",
    "    cbar = np.concatenate([c, np.zeros(m)])\n",
    "    Abar = np.column_stack([A, np.eye(m)])\n",
    "    \n",
    "    # b is unchanged\n",
    "    return cbar, Abar, b\n",
    "\n",
    "# product mix problem from 02_linear_programs.ipynb\n",
    "p = np.array([250., 215., 275., 180.])  # price vector\n",
    "d = np.array([10., 20., 12., 10.])      # demand vector\n",
    "m = np.array([4., 4., 4.])              # resource constraints\n",
    "\n",
    "H = np.array([                          # resource usage\n",
    "    [0.12, 0.18, 0.13, 0.07],\n",
    "    [0.15, 0.12, 0.13, 0.11],\n",
    "    [0.1 , 0.1 , 0.1 , 0.12]\n",
    "])\n",
    "\n",
    "c_pm = -p\n",
    "b_pm = np.concatenate((m, d))\n",
    "A_pm = np.vstack((H, np.eye(len(p))))\n",
    "\n",
    "cbar_pm, Abar_pm, b_pm = to_standard_form(c_pm, A_pm, b_pm)\n",
    "\n",
    "# finally run the test!!\n",
    "D_pm = build_tableau(cbar_pm, Abar_pm, b_pm)\n",
    "assert D_pm.shape == (8, 12)\n",
    "assert D_pm[0,0] == 0\n",
    "assert np.allclose(D_pm.sum(axis=0)[6:], -np.ones(6))\n",
    "assert np.allclose(D_pm[1:, 0] , b_pm)"
   ]
  },
  {
   "cell_type": "markdown",
   "metadata": {
    "nbgrader": {
     "grade": false,
     "grade_id": "8c352e",
     "locked": true,
     "schema_version": 3,
     "solution": false,
     "task": false
    },
    "slideshow": {
     "slide_type": "fragment"
    }
   },
   "source": [
    "**Exercise 3.2**\n",
    "\n",
    "Implement the `should_terminate` function below"
   ]
  },
  {
   "cell_type": "code",
   "execution_count": 65,
   "metadata": {
    "nbgrader": {
     "grade": false,
     "grade_id": "ac6b53",
     "locked": false,
     "schema_version": 3,
     "solution": true,
     "task": false
    }
   },
   "outputs": [],
   "source": [
    "def should_terminate(D: np.ndarray) -> bool:\n",
    "    \"\"\"\n",
    "    Given a tableau D, check the termination condition which is\n",
    "    that all of D[0, 1:] >= 0\n",
    "    \"\"\"\n",
    "    return all(D[0, 1:]>= 0)"
   ]
  },
  {
   "cell_type": "code",
   "execution_count": 66,
   "metadata": {
    "nbgrader": {
     "grade": true,
     "grade_id": "ex3_2",
     "locked": true,
     "points": 10,
     "schema_version": 3,
     "solution": false,
     "task": false
    }
   },
   "outputs": [],
   "source": [
    "assert should_terminate(np.array([[0, 1], [1, 0]]))\n",
    "assert should_terminate(np.array([[0, 0], [1, 0]]))\n",
    "assert not should_terminate(np.array([[0, -1], [1, 0]]))"
   ]
  },
  {
   "cell_type": "markdown",
   "metadata": {
    "nbgrader": {
     "grade": false,
     "grade_id": "8bb1d1",
     "locked": true,
     "schema_version": 3,
     "solution": false,
     "task": false
    },
    "slideshow": {
     "slide_type": "fragment"
    }
   },
   "source": [
    "**Exercise 3.3**\n",
    "\n",
    "Implement the `pivot_column` function below"
   ]
  },
  {
   "cell_type": "code",
   "execution_count": 67,
   "metadata": {
    "nbgrader": {
     "grade": false,
     "grade_id": "fcee37",
     "locked": false,
     "schema_version": 3,
     "solution": true,
     "task": false
    }
   },
   "outputs": [],
   "source": [
    "def pivot_column(D) -> int:\n",
    "    \"\"\"\n",
    "    Given a tableau D, find the next pivot column\n",
    "\n",
    "    If you cannot find another pivot column, raise a ValueError\n",
    "    \"\"\"\n",
    "    A=0\n",
    "    m,n=D.shape\n",
    "    for i in range(1, n):\n",
    "        if D[0,i]<0:\n",
    "            A=i\n",
    "            break\n",
    "    if A==0:\n",
    "        raise ValueError\n",
    "    return A"
   ]
  },
  {
   "cell_type": "code",
   "execution_count": 68,
   "metadata": {
    "nbgrader": {
     "grade": true,
     "grade_id": "ex3_3",
     "locked": true,
     "points": 10,
     "schema_version": 3,
     "solution": false,
     "task": false
    }
   },
   "outputs": [],
   "source": [
    "from nose.tools import assert_raises\n",
    "assert_raises(ValueError, pivot_column, np.array([[-1, 0, 1], [0,0,0]]))\n",
    "assert pivot_column(np.array([[-1, -1, 1], [0,0,0]])) == 1\n",
    "assert pivot_column(np.array([[1, -1, 1], [0,0,0]])) == 1\n",
    "assert pivot_column(np.array([[1, -1, -100], [0,0,0]])) == 1\n",
    "assert pivot_column(np.array([[1, 0, -100], [0,0,0]])) == 2"
   ]
  },
  {
   "cell_type": "markdown",
   "metadata": {
    "nbgrader": {
     "grade": false,
     "grade_id": "2bab27",
     "locked": true,
     "schema_version": 3,
     "solution": false,
     "task": false
    },
    "slideshow": {
     "slide_type": "subslide"
    }
   },
   "source": [
    "#### 3.C: Find Pivot row\n",
    "\n",
    "With the pivot column (j) in hand, we now need to find pivot row\n",
    "\n",
    "To do this we follow these steps:\n",
    "\n",
    "- Compute $d_i = - \\frac{D_{i, 0}}{D_{i, j}}$ for all $i > 0$ (ignore the first row)\n",
    "- Select the row $i$ whose value $d_i$ is the smallest\n",
    "\n",
    "\n",
    "> Note: if two rows have same value for $d$, select the row with smaller index\n",
    "\n",
    "> Note: If $D_{i, j} = 0$ for any $i$, we do not consider row $i$"
   ]
  },
  {
   "cell_type": "markdown",
   "metadata": {
    "nbgrader": {
     "grade": false,
     "grade_id": "8bdeaf",
     "locked": true,
     "schema_version": 3,
     "solution": false,
     "task": false
    },
    "slideshow": {
     "slide_type": "fragment"
    }
   },
   "source": [
    "**Exercise 3.4**\n",
    "\n",
    "Implement the `pivot_row` function below"
   ]
  },
  {
   "cell_type": "code",
   "execution_count": 77,
   "metadata": {
    "nbgrader": {
     "grade": false,
     "grade_id": "587c6e",
     "locked": false,
     "schema_version": 3,
     "solution": true,
     "task": false
    }
   },
   "outputs": [],
   "source": [
    "def pivot_row(D, col: int) -> int:\n",
    "    \"\"\"\n",
    "    Given a tableau D and pivot column `col`, find the next pivot column\n",
    "    \"\"\"\n",
    "    d=[]\n",
    "    m,n=D.shape\n",
    "    for i in range(1,m):\n",
    "        x= - D[i,0]/D[i,col]\n",
    "        if x!=0:\n",
    "            d.append(x)\n",
    "    return d.index(min(d))+1"
   ]
  },
  {
   "cell_type": "code",
   "execution_count": 78,
   "metadata": {
    "nbgrader": {
     "grade": true,
     "grade_id": "ee1ad9",
     "locked": true,
     "points": 1,
     "schema_version": 3,
     "solution": false,
     "task": false
    }
   },
   "outputs": [
    {
     "name": "stderr",
     "output_type": "stream",
     "text": [
      "/var/folders/18/d01zbk1j4gn7w41cpr5tmfcr0000gn/T/ipykernel_963/103168367.py:8: RuntimeWarning: divide by zero encountered in double_scalars\n",
      "  x= - D[i,0]/D[i,col]\n"
     ]
    }
   ],
   "source": [
    "# [Modify the tests below for your own problem]\n",
    "# Check that squares returns the correct output for several inputs:\n",
    "assert pivot_row(D_pm, 1) == 4\n",
    "assert pivot_row(D_pm, 2) == 5\n",
    "assert pivot_row(D_pm, 3) == 6\n",
    "assert pivot_row(D_pm, 4) == 7"
   ]
  },
  {
   "cell_type": "markdown",
   "metadata": {
    "nbgrader": {
     "grade": false,
     "grade_id": "9894e4",
     "locked": true,
     "schema_version": 3,
     "solution": false,
     "task": false
    },
    "slideshow": {
     "slide_type": "subslide"
    }
   },
   "source": [
    "#### 3.D: Do pivot operation\n",
    "\n",
    "Now that we know the column (`j`) and row (`i`) for pivoting, we do the pivot operation\n",
    "\n",
    "The goal of the pivot operation is to use the three matrix row operations to turn column `j` into the negative `i`th unit vector\n",
    "\n",
    "That is we want column `j` to be all `0`, except for a `-1` at row `i`# [Modify the tests below for your own problem]\n",
    "\n",
    "There is a strategy for doing this:\n",
    "\n",
    "1. First multiply row `i` of `D` by `-1/D[i,j]`\n",
    "2. For all rows `i2` where `i2 != i` and `D[i2, j] != 0`, multiply row `i` by `D[i2, j]` and add to row `i2` (this should set `D[i2, j]` to 0)\n",
    "\n",
    "**Exercise 3.5**\n",
    "\n",
    "Implement the `do_pivot` function below"
   ]
  },
  {
   "cell_type": "code",
   "execution_count": 80,
   "metadata": {
    "nbgrader": {
     "grade": false,
     "grade_id": "d1625e",
     "locked": false,
     "schema_version": 3,
     "solution": true,
     "task": false
    }
   },
   "outputs": [],
   "source": [
    "def do_pivot(D, col, row) -> np.ndarray:\n",
    "    \"\"\"\n",
    "    Given a tableau D and a pivot `col` and `row`, do the pivot operation\n",
    "    \"\"\"\n",
    "    # apply step 1. of strategy to make D[row, col] = 1\n",
    "    D[row, :]= D[row,:]*(-1/D[row, col]) # TODO: Fix this line\n",
    "\n",
    "    for i2 in range(D.shape[0]):\n",
    "        if i2 != row and D[i2, col]!= 0: \n",
    "            # your code here Apply step 2. of strategy above\n",
    "            D[i2, :]+=D[row, :]*D[i2, col]  # TODO: Fix this line\n",
    "    return D"
   ]
  },
  {
   "cell_type": "code",
   "execution_count": 81,
   "metadata": {
    "nbgrader": {
     "grade": true,
     "grade_id": "ex3_5",
     "locked": true,
     "points": 10,
     "schema_version": 3,
     "solution": false,
     "task": false
    }
   },
   "outputs": [],
   "source": [
    "def make_negative_e(n, i):\n",
    "    out = np.zeros(n)\n",
    "    out[i] = -1\n",
    "    return out\n",
    "\n",
    "N = D_pm.shape[0]\n",
    "for i in range(1,5):\n",
    "    D_i = do_pivot(D_pm, i, i+3)\n",
    "    assert np.allclose(D_i[:, i], make_negative_e(N, i+3))"
   ]
  }
 ],
 "metadata": {
  "kernelspec": {
   "display_name": "Python 3 (ipykernel)",
   "language": "python",
   "name": "python3"
  },
  "language_info": {
   "codemirror_mode": {
    "name": "ipython",
    "version": 3
   },
   "file_extension": ".py",
   "mimetype": "text/x-python",
   "name": "python",
   "nbconvert_exporter": "python",
   "pygments_lexer": "ipython3",
   "version": "3.9.12"
  },
  "widgets": {
   "application/vnd.jupyter.widget-state+json": {
    "state": {},
    "version_major": 2,
    "version_minor": 0
   }
  }
 },
 "nbformat": 4,
 "nbformat_minor": 4
}
